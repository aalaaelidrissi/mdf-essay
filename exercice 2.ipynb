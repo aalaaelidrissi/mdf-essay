{
 "cells": [
  {
   "cell_type": "code",
   "execution_count": 2,
   "metadata": {},
   "outputs": [
    {
     "name": "stdout",
     "output_type": "stream",
     "text": [
      "le volume versé de mercure est : 17739.130434782608 m^3\n",
      "le volume de mercure dans chaque tube est : 17739.130434782608 m^3\n",
      "la hauteur  est : 295652.0405797101 m\n"
     ]
    }
   ],
   "source": [
    "m=float(input(\"donner la masse\"))\n",
    "p=float(input(\"donner la masse volumique\"))\n",
    "h=float(input(\"donner la hauteur\"))\n",
    "L=float(input(\"donner la largeur\"))\n",
    "l=float(input(\"donner la longeur\"))\n",
    "S=float(input(\"donner la surface\"))\n",
    "V=m/p\n",
    "print(\"le volume versé de mercure est :\",V,\"m^3\")\n",
    "Vt=(V-(S*h))/3\n",
    "print(\"le volume de mercure dans chaque tube est :\",V,\"m^3\")\n",
    "h=Vt/S\n",
    "print(\"la hauteur  est :\",h,\"m\")\n"
   ]
  }
 ],
 "metadata": {
  "kernelspec": {
   "display_name": "Python 3.10.7 64-bit",
   "language": "python",
   "name": "python3"
  },
  "language_info": {
   "codemirror_mode": {
    "name": "ipython",
    "version": 3
   },
   "file_extension": ".py",
   "mimetype": "text/x-python",
   "name": "python",
   "nbconvert_exporter": "python",
   "pygments_lexer": "ipython3",
   "version": "3.10.7"
  },
  "orig_nbformat": 4,
  "vscode": {
   "interpreter": {
    "hash": "8356047840573d58cfeca61bd4a86169de5cd58471b204f5628bb3e0073bc0c9"
   }
  }
 },
 "nbformat": 4,
 "nbformat_minor": 2
}
