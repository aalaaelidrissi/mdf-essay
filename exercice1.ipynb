{
 "cells": [
  {
   "cell_type": "code",
   "execution_count": 4,
   "metadata": {},
   "outputs": [
    {
     "name": "stdout",
     "output_type": "stream",
     "text": [
      "La hauteur est  0.9\n",
      "la masse volumique est: 13600.0\n",
      "la valeur g est : 10.0\n",
      "la valeur L est : 0.75\n",
      "la valeur l est : 0.5\n",
      "45900.0\n"
     ]
    }
   ],
   "source": [
    "\n",
    "\n",
    "dh = float(input('Donner la hauteur'))\n",
    "print(\"La hauteur est \",dh)\n",
    "p=float(input('donner la valeur de la masse volumique'))\n",
    "print(\"la masse volumique est:\",p)\n",
    "g= float(input('Donner la valeur de la gravité'))\n",
    "print(\"la valeur g est :\", g)\n",
    "L= float(input('Donner la valeur de la longueur'))\n",
    "print(\"la valeur L est :\", L)\n",
    "l= float(input('Donner la valeur de la largeur'))\n",
    "print(\"la valeur l est :\", l)\n",
    "\n",
    "\n",
    "P = p*g*dh\n",
    "\n",
    "S= L*l\n",
    "\n",
    "F=P*S\n",
    "print(F)"
   ]
  },
  {
   "cell_type": "code",
   "execution_count": 7,
   "metadata": {},
   "outputs": [
    {
     "name": "stdout",
     "output_type": "stream",
     "text": [
      "2520.0\n"
     ]
    }
   ],
   "source": [
    "F=p*g*dh*l*L\n",
    "print(F)"
   ]
  }
 ],
 "metadata": {
  "kernelspec": {
   "display_name": "Python 3.10.7 64-bit",
   "language": "python",
   "name": "python3"
  },
  "language_info": {
   "codemirror_mode": {
    "name": "ipython",
    "version": 3
   },
   "file_extension": ".py",
   "mimetype": "text/x-python",
   "name": "python",
   "nbconvert_exporter": "python",
   "pygments_lexer": "ipython3",
   "version": "3.10.7"
  },
  "orig_nbformat": 4,
  "vscode": {
   "interpreter": {
    "hash": "8356047840573d58cfeca61bd4a86169de5cd58471b204f5628bb3e0073bc0c9"
   }
  }
 },
 "nbformat": 4,
 "nbformat_minor": 2
}
