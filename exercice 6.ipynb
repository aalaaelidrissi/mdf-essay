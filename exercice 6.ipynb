{
 "cells": [
  {
   "cell_type": "code",
   "execution_count": 9,
   "metadata": {},
   "outputs": [
    {
     "name": "stdout",
     "output_type": "stream",
     "text": [
      "la valeur minimale de h2/h1 est: 1.6615384615384616 m\n"
     ]
    }
   ],
   "source": [
    "M=float(input('la valeur du masse volumique du mercure'))\n",
    "M1=float(input('la valeur du masse volumique du platine'))\n",
    "M2=float(input('la valeur du masse volumique du zinc'))\n",
    "min=((M1-M)/(M-M2))\n",
    "\n",
    "print(\"la valeur minimale de h2/h1 est:\",min,\"m\")\n"
   ]
  },
  {
   "cell_type": "code",
   "execution_count": null,
   "metadata": {},
   "outputs": [],
   "source": [
    "M=float(input('Donner la valeur du masse volumique du mercure'))\n",
    "M1=float(input('Donner la valeur du masse volumique du platine'))\n",
    "M2=float(input('Donner la valeur du masse volumique du zinc'))\n",
    "min=((M1-M)/(M-M2))\n",
    "print(\"la valeur minimal de h2/h1 est :\",min,\"m\")\n",
    "import numpy as np\n",
    "coeff=[1,-2.4,-3.62]\n",
    "sol=np.roots(coeff)\n",
    "print(sol[0].real)\n",
    "print(\"la valeur maximal de h2/h1 est :\",sol,\"m\")"
   ]
  },
  {
   "cell_type": "code",
   "execution_count": null,
   "metadata": {},
   "outputs": [],
   "source": [
    "import numpy as np\n",
    "M=float(input('Donner la valeur du masse volumique du mercure'))\n",
    "M1=float(input('Donner la valeur du masse volumique du platine'))\n",
    "M2=float(input('Donner la valeur du masse volumique du zinc'))\n",
    "min=((M1-M)/(M-M2))\n",
    "print(\"la valeur minimal de h2/h1 est :\",min,\"m\")\n",
    "coeff=[1,-2.4,-3.62]\n",
    "sol=np.roots(coeff)\n",
    "print(sol[0].real)\n",
    "print(\"la valeur maximal de h2/h1 est :\",sol,\"m\")"
   ]
  }
 ],
 "metadata": {
  "kernelspec": {
   "display_name": "Python 3.10.7 64-bit",
   "language": "python",
   "name": "python3"
  },
  "language_info": {
   "codemirror_mode": {
    "name": "ipython",
    "version": 3
   },
   "file_extension": ".py",
   "mimetype": "text/x-python",
   "name": "python",
   "nbconvert_exporter": "python",
   "pygments_lexer": "ipython3",
   "version": "3.10.7"
  },
  "orig_nbformat": 4,
  "vscode": {
   "interpreter": {
    "hash": "8356047840573d58cfeca61bd4a86169de5cd58471b204f5628bb3e0073bc0c9"
   }
  }
 },
 "nbformat": 4,
 "nbformat_minor": 2
}
