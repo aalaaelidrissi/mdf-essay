{
 "cells": [
  {
   "cell_type": "code",
   "execution_count": 1,
   "metadata": {},
   "outputs": [
    {
     "name": "stdout",
     "output_type": "stream",
     "text": [
      " la pression est : 784000.0 Pa\n",
      "F est la force est : 31360000000.0 N\n"
     ]
    }
   ],
   "source": [
    "H=float(input(\"donner la hauteur\"))\n",
    "M=float(input(\"donner la masse volumique\"))\n",
    "g=float(input(\"donner la gravité\"))\n",
    "L=float(input(\"donner la Largeur\"))\n",
    "P=M*g*H\n",
    "print(\" la pression est :\",P,\"Pa\")\n",
    "S=L*H\n",
    "F=P*S\n",
    "print(\"F est la force est :\",F,\"N\") \n",
    "\n"
   ]
  },
  {
   "cell_type": "code",
   "execution_count": null,
   "metadata": {},
   "outputs": [],
   "source": []
  }
 ],
 "metadata": {
  "kernelspec": {
   "display_name": "Python 3.10.7 64-bit",
   "language": "python",
   "name": "python3"
  },
  "language_info": {
   "codemirror_mode": {
    "name": "ipython",
    "version": 3
   },
   "file_extension": ".py",
   "mimetype": "text/x-python",
   "name": "python",
   "nbconvert_exporter": "python",
   "pygments_lexer": "ipython3",
   "version": "3.10.7"
  },
  "orig_nbformat": 4,
  "vscode": {
   "interpreter": {
    "hash": "8356047840573d58cfeca61bd4a86169de5cd58471b204f5628bb3e0073bc0c9"
   }
  }
 },
 "nbformat": 4,
 "nbformat_minor": 2
}
