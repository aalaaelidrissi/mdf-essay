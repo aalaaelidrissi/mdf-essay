{
 "cells": [
  {
   "cell_type": "code",
   "execution_count": 12,
   "metadata": {},
   "outputs": [
    {
     "name": "stdout",
     "output_type": "stream",
     "text": [
      "la force est : 121871.25000000001 N\n"
     ]
    }
   ],
   "source": [
    "p=input(\"donner la pression\")\n",
    "d=input(\"donner le diametre\")\n",
    "p=float(p)\n",
    "d=float(d)\n",
    "A=3.14*(d/2)**2\n",
    "F=p*A\n",
    "print(\"la force est :\",F,\"N\")\n"
   ]
  }
 ],
 "metadata": {
  "kernelspec": {
   "display_name": "Python 3.10.7 64-bit",
   "language": "python",
   "name": "python3"
  },
  "language_info": {
   "codemirror_mode": {
    "name": "ipython",
    "version": 3
   },
   "file_extension": ".py",
   "mimetype": "text/x-python",
   "name": "python",
   "nbconvert_exporter": "python",
   "pygments_lexer": "ipython3",
   "version": "3.10.7"
  },
  "orig_nbformat": 4,
  "vscode": {
   "interpreter": {
    "hash": "8356047840573d58cfeca61bd4a86169de5cd58471b204f5628bb3e0073bc0c9"
   }
  }
 },
 "nbformat": 4,
 "nbformat_minor": 2
}
